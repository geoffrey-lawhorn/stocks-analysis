{
  "cells": [
    {
      "cell_type": "code",
      "execution_count": 2,
      "id": "37e40f75-2ba4-4b0f-a314-afb754581fe1",
      "metadata": {
        "id": "37e40f75-2ba4-4b0f-a314-afb754581fe1",
        "outputId": "7bd17018-acf4-4942-d21e-cbedbc2f7fd2",
        "colab": {
          "base_uri": "https://localhost:8080/"
        }
      },
      "outputs": [
        {
          "output_type": "stream",
          "name": "stdout",
          "text": [
            "Collecting jproperties\n",
            "  Downloading jproperties-2.1.1-py2.py3-none-any.whl (17 kB)\n",
            "Requirement already satisfied: six~=1.13 in /usr/local/lib/python3.10/dist-packages (from jproperties) (1.16.0)\n",
            "Installing collected packages: jproperties\n",
            "Successfully installed jproperties-2.1.1\n"
          ]
        }
      ],
      "source": [
        "# !pip install numpy-financial\n",
        "# !pip install yahoo-fin\n",
        "# !pip install jproperties"
      ]
    },
    {
      "cell_type": "markdown",
      "id": "6534ce8a-7d0e-4de7-bfeb-8888eb63b234",
      "metadata": {
        "id": "6534ce8a-7d0e-4de7-bfeb-8888eb63b234"
      },
      "source": [
        "## Imports"
      ]
    },
    {
      "cell_type": "code",
      "execution_count": 3,
      "id": "40c263b2-bf19-400b-9b60-6d182244ee30",
      "metadata": {
        "id": "40c263b2-bf19-400b-9b60-6d182244ee30"
      },
      "outputs": [],
      "source": [
        "# Read stocks\n",
        "import yfinance as yf\n",
        "\n",
        "# To get analysts info\n",
        "import yahoo_fin.stock_info as si\n",
        "\n",
        "# Required to calculate net present value\n",
        "import numpy_financial as npf\n",
        "\n",
        "# For reading properties\n",
        "from jproperties import Properties"
      ]
    },
    {
      "cell_type": "code",
      "source": [
        "from google.colab import drive\n",
        "drive.mount('/content/drive')"
      ],
      "metadata": {
        "id": "eM0G8N0r3hQe",
        "outputId": "577158a6-8ca5-4e68-8401-790b1a903871",
        "colab": {
          "base_uri": "https://localhost:8080/"
        }
      },
      "id": "eM0G8N0r3hQe",
      "execution_count": 4,
      "outputs": [
        {
          "output_type": "stream",
          "name": "stdout",
          "text": [
            "Mounted at /content/drive\n"
          ]
        }
      ]
    },
    {
      "cell_type": "markdown",
      "id": "96275e84-7c2b-46a3-b5b7-9e152b178283",
      "metadata": {
        "id": "96275e84-7c2b-46a3-b5b7-9e152b178283"
      },
      "source": [
        "## Load properties"
      ]
    },
    {
      "cell_type": "code",
      "execution_count": 5,
      "id": "76600bc8-ce10-4ed1-88d8-3c472e0b0bdf",
      "metadata": {
        "id": "76600bc8-ce10-4ed1-88d8-3c472e0b0bdf"
      },
      "outputs": [],
      "source": [
        "configs = Properties()\n",
        "\n",
        "with open('/content/drive/MyDrive/Personal Projects/Stock-Analysis/yf_dcf.properties', 'rb') as config_file:\n",
        "     configs.load(config_file)\n",
        "\n",
        "TICKER = configs.get('TICKER').data\n",
        "# Perpetual growth rates is read as a string; we need to convert it to float\n",
        "PERP_GROWTH_RATE = float(configs.get('PERP_GROWTH_RATE').data)\n",
        "WACC_RATE = float(configs.get('WACC_RATE').data)"
      ]
    },
    {
      "cell_type": "markdown",
      "id": "704042c1-54e4-4ca6-912c-9d751d6e3cc7",
      "metadata": {
        "id": "704042c1-54e4-4ca6-912c-9d751d6e3cc7"
      },
      "source": [
        "## Constants"
      ]
    },
    {
      "cell_type": "code",
      "execution_count": 6,
      "id": "8b2e0bc0-aaa8-4707-afa0-4e28842bc477",
      "metadata": {
        "id": "8b2e0bc0-aaa8-4707-afa0-4e28842bc477"
      },
      "outputs": [],
      "source": [
        "PROJECTION_YEARS = 5"
      ]
    },
    {
      "cell_type": "markdown",
      "id": "694d0398-02a3-4d69-92c0-de0e5c49c550",
      "metadata": {
        "id": "694d0398-02a3-4d69-92c0-de0e5c49c550"
      },
      "source": [
        "## Get Growth Rate"
      ]
    },
    {
      "cell_type": "code",
      "execution_count": 14,
      "id": "c8bba570-7dda-42d3-bb43-e3b595a28793",
      "metadata": {
        "id": "c8bba570-7dda-42d3-bb43-e3b595a28793",
        "outputId": "dd3a5c8e-65c7-4eb0-d20a-0fd1ed8fb50f",
        "colab": {
          "base_uri": "https://localhost:8080/"
        }
      },
      "outputs": [
        {
          "output_type": "stream",
          "name": "stdout",
          "text": [
            "0.0563\n"
          ]
        }
      ],
      "source": [
        "growth_est_df = si.get_analysts_info(TICKER)['Growth Estimates']\n",
        "growth_str = growth_est_df[growth_est_df['Growth Estimates'] == 'Next 5 Years (per annum)'][TICKER].iloc[0]\n",
        "growth_rate = round(float(growth_str.rstrip('%')) / 100.0, 4)\n",
        "\n",
        "print(growth_rate)"
      ]
    },
    {
      "cell_type": "markdown",
      "id": "4af7bef3-963d-4002-8d96-0bb160c14b7a",
      "metadata": {
        "id": "4af7bef3-963d-4002-8d96-0bb160c14b7a"
      },
      "source": [
        "## Future Free Cash Flow"
      ]
    },
    {
      "cell_type": "code",
      "execution_count": 15,
      "id": "5ba333b3-11cb-4213-94ee-533919e52e42",
      "metadata": {
        "id": "5ba333b3-11cb-4213-94ee-533919e52e42",
        "outputId": "5c8a8be7-0030-4801-a073-a4426906927a",
        "colab": {
          "base_uri": "https://localhost:8080/"
        }
      },
      "outputs": [
        {
          "output_type": "execute_result",
          "data": {
            "text/plain": [
              "[105190579200.0,\n",
              " 111112808808.96,\n",
              " 117368459944.90445,\n",
              " 123976304239.80257,\n",
              " 130956170168.50345]"
            ]
          },
          "metadata": {},
          "execution_count": 15
        }
      ],
      "source": [
        "# Using yfinance to get other data\n",
        "ticker = yf.Ticker(TICKER)\n",
        "\n",
        "# Free cash flow\n",
        "free_cash_flow = ticker.cash_flow.loc['Free Cash Flow'][0]\n",
        "\n",
        "ffcf = []\n",
        "# Year 1\n",
        "ffcf.append(free_cash_flow * (1 + growth_rate))\n",
        "\n",
        "# Starting from year 2\n",
        "for i in range(1, PROJECTION_YEARS):\n",
        "    ffcf.append(ffcf[i-1] * (1 + growth_rate))\n",
        "ffcf"
      ]
    },
    {
      "cell_type": "markdown",
      "id": "d54fd4ec-d7d5-4dac-a46e-e783ba3cc3c5",
      "metadata": {
        "id": "d54fd4ec-d7d5-4dac-a46e-e783ba3cc3c5"
      },
      "source": [
        "## Calculate the Terminal Value"
      ]
    },
    {
      "cell_type": "code",
      "execution_count": 16,
      "id": "5a1fbea7-f93d-45c5-a433-aa8cd698b9b2",
      "metadata": {
        "id": "5a1fbea7-f93d-45c5-a433-aa8cd698b9b2"
      },
      "outputs": [],
      "source": [
        "# forecast_fcf[-1] refers to the last year in the growth period\n",
        "terminal_value = ffcf[-1] * (1 + PERP_GROWTH_RATE)/(WACC_RATE - PERP_GROWTH_RATE)"
      ]
    },
    {
      "cell_type": "markdown",
      "id": "ad7d2661-811f-4ab3-9763-a8915ec66aac",
      "metadata": {
        "id": "ad7d2661-811f-4ab3-9763-a8915ec66aac"
      },
      "source": [
        "## Enterprise Valuation"
      ]
    },
    {
      "cell_type": "code",
      "execution_count": 21,
      "id": "ececb4fb-23ef-47f1-9098-62e8beef9771",
      "metadata": {
        "id": "ececb4fb-23ef-47f1-9098-62e8beef9771",
        "outputId": "989e4d67-c68e-4bf3-9868-76ead752e2b5",
        "colab": {
          "base_uri": "https://localhost:8080/"
        }
      },
      "outputs": [
        {
          "output_type": "stream",
          "name": "stdout",
          "text": [
            "$4,172,969,387,491.40\n"
          ]
        }
      ],
      "source": [
        "# Add the terminal value to the last year\n",
        "ffcf[-1] = ffcf[-1] + terminal_value\n",
        "\n",
        "# Calcualte the enterprise_value using npv - add zero or else the method assumes\n",
        "# first value as the initial investment\n",
        "enterprise_value = npf.npv(WACC_RATE, [0] + ffcf)\n",
        "# enterprise_value = sum(pv_ffcf)\n",
        "print('${:,.2f}'.format(enterprise_value))"
      ]
    },
    {
      "cell_type": "markdown",
      "id": "3833d249-885c-45d8-8544-525d54596713",
      "metadata": {
        "id": "3833d249-885c-45d8-8544-525d54596713"
      },
      "source": [
        "## Equity Valuation"
      ]
    },
    {
      "cell_type": "code",
      "execution_count": 23,
      "id": "4915ad8d-5498-45ea-9935-c86561e51309",
      "metadata": {
        "id": "4915ad8d-5498-45ea-9935-c86561e51309",
        "outputId": "64565a24-38a6-4448-c945-65797b12f427",
        "colab": {
          "base_uri": "https://localhost:8080/"
        }
      },
      "outputs": [
        {
          "output_type": "stream",
          "name": "stdout",
          "text": [
            "$4,091,846,387,491.40\n"
          ]
        }
      ],
      "source": [
        "# Calculate Cash And Cash Equivalents\n",
        "balance_sheet_df = ticker.balance_sheet\n",
        "cash_and_equivalents = balance_sheet_df.loc['Cash And Cash Equivalents'][0]\n",
        "\n",
        "# Current debt - only interested in the value\n",
        "current_debt = balance_sheet_df.loc['Current Debt'][0]\n",
        "\n",
        "# Long term debt - only interested in the value\n",
        "long_term_debt = balance_sheet_df.loc['Long Term Debt'][0]\n",
        "\n",
        "# Equity value -> enterprise_value + cash - total debt\n",
        "equity_value = enterprise_value + cash_and_equivalents - (current_debt +  long_term_debt)\n",
        "print('${:,.2f}'.format(equity_value))"
      ]
    },
    {
      "cell_type": "markdown",
      "id": "1d7912e4-ee13-4d26-a633-b11897ebe6fb",
      "metadata": {
        "id": "1d7912e4-ee13-4d26-a633-b11897ebe6fb"
      },
      "source": [
        "## Intrinsic Valuation"
      ]
    },
    {
      "cell_type": "code",
      "execution_count": 24,
      "id": "4a728de0-10e0-4845-9407-120d526e5166",
      "metadata": {
        "id": "4a728de0-10e0-4845-9407-120d526e5166",
        "outputId": "1e2b146f-dc85-4130-c4e9-d44b295aa5c9",
        "colab": {
          "base_uri": "https://localhost:8080/",
          "height": 36
        }
      },
      "outputs": [
        {
          "output_type": "execute_result",
          "data": {
            "text/plain": [
              "'Current Price: $195.89 Intrinsic Value: $263.09 for ticker AAPL'"
            ],
            "application/vnd.google.colaboratory.intrinsic+json": {
              "type": "string"
            }
          },
          "metadata": {},
          "execution_count": 24
        }
      ],
      "source": [
        "# Shares outstanding\n",
        "shares_outstanding = ticker.info['sharesOutstanding']\n",
        "\n",
        "# Current stock price\n",
        "current_value = ticker.info['currentPrice']\n",
        "\n",
        "# Intrinsic value\n",
        "intrinsic_value = equity_value / shares_outstanding\n",
        "'Current Price: ${:.2f} Intrinsic Value: ${:.2f}'.format(round(current_value,2), round(intrinsic_value,2)) + ' for ticker ' + TICKER"
      ]
    },
    {
      "cell_type": "code",
      "execution_count": 25,
      "id": "f8e971d4-9ef6-4bfc-bb1a-82ac7995bae5",
      "metadata": {
        "id": "f8e971d4-9ef6-4bfc-bb1a-82ac7995bae5",
        "outputId": "dc478448-269e-47b9-ec40-14eb4bc05c6b",
        "colab": {
          "base_uri": "https://localhost:8080/",
          "height": 36
        }
      },
      "outputs": [
        {
          "output_type": "execute_result",
          "data": {
            "text/plain": [
              "'34.31% for ticker AAPL'"
            ],
            "application/vnd.google.colaboratory.intrinsic+json": {
              "type": "string"
            }
          },
          "metadata": {},
          "execution_count": 25
        }
      ],
      "source": [
        "upside = (intrinsic_value / current_value) - 1\n",
        "'{:.2%}'.format(round(upside,4)) + ' for ticker ' + TICKER"
      ]
    },
    {
      "cell_type": "code",
      "execution_count": 26,
      "id": "df14565b-9fda-4dc0-8b5c-b0383111dea3",
      "metadata": {
        "id": "df14565b-9fda-4dc0-8b5c-b0383111dea3",
        "outputId": "75b40d93-284b-47c6-cd08-5338feb7d4b4",
        "colab": {
          "base_uri": "https://localhost:8080/"
        }
      },
      "outputs": [
        {
          "output_type": "stream",
          "name": "stdout",
          "text": [
            "BUY\n"
          ]
        }
      ],
      "source": [
        "if intrinsic_value > current_value:\n",
        "    print('BUY')\n",
        "else:\n",
        "    print('SELL')"
      ]
    },
    {
      "cell_type": "markdown",
      "id": "053d0e23-6589-4220-940d-2d13cb4ce637",
      "metadata": {
        "id": "053d0e23-6589-4220-940d-2d13cb4ce637"
      },
      "source": [
        "## Enterprise Valuation - alternative"
      ]
    },
    {
      "cell_type": "code",
      "execution_count": 28,
      "id": "a9dc64e5-fbf9-4c53-92eb-ddc1232beb4b",
      "metadata": {
        "id": "a9dc64e5-fbf9-4c53-92eb-ddc1232beb4b",
        "outputId": "91261bcb-87b6-4c17-83f6-c43329a7c8f1",
        "colab": {
          "base_uri": "https://localhost:8080/"
        }
      },
      "outputs": [
        {
          "output_type": "stream",
          "name": "stdout",
          "text": [
            "$4,172,969,387,491.40\n"
          ]
        }
      ],
      "source": [
        "# This is another way of calculating PV of FFCF - sum of it should match the npv calculation of npf\n",
        "pv_ffcf = []\n",
        "for idx, x in enumerate(ffcf):\n",
        "    pv_ffcf.append(x/(1 + WACC_RATE)**(idx+1))\n",
        "# This is equivalent to enterprise_value value\n",
        "print('${:,.2f}'.format(sum(pv_ffcf)))"
      ]
    }
  ],
  "metadata": {
    "kernelspec": {
      "display_name": "Python 3 (ipykernel)",
      "language": "python",
      "name": "python3"
    },
    "language_info": {
      "codemirror_mode": {
        "name": "ipython",
        "version": 3
      },
      "file_extension": ".py",
      "mimetype": "text/x-python",
      "name": "python",
      "nbconvert_exporter": "python",
      "pygments_lexer": "ipython3",
      "version": "3.11.4"
    },
    "colab": {
      "provenance": []
    }
  },
  "nbformat": 4,
  "nbformat_minor": 5
}